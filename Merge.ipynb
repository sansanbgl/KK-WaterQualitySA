{
 "cells": [
  {
   "cell_type": "code",
   "execution_count": 2,
   "metadata": {},
   "outputs": [],
   "source": [
    "import pandas as pd\n",
    "import os\n",
    "\n",
    "# Path to the folder containing Excel files\n",
    "folder_path = 'data'\n",
    "\n",
    "# List to store dataframes of each file\n",
    "dfs = []\n",
    "\n",
    "# Loop through each file in the folder\n",
    "for file_name in os.listdir(folder_path):\n",
    "    if file_name.endswith('.xlsx'):\n",
    "        file_path = os.path.join(folder_path, file_name)\n",
    "        df = pd.read_excel(file_path)  # Read the Excel file\n",
    "        # Perform operations on the columns and store summaries in 'summary'\n",
    "        summary = df.describe()  # Modify as per your summary requirement\n",
    "        dfs.append(summary)\n",
    "\n",
    "# Concatenate summaries into a single DataFrame\n",
    "summary_df = pd.concat(dfs, axis=1)\n",
    "# Define the path for the output file\n",
    "output_file = 'data/summary_output.xlsx'\n",
    "\n",
    "# Write the summary DataFrame to a new Excel file\n",
    "summary_df.to_excel(output_file)\n"
   ]
  },
  {
   "cell_type": "code",
   "execution_count": 4,
   "metadata": {},
   "outputs": [
    {
     "name": "stdout",
     "output_type": "stream",
     "text": [
      "Files have different columns.\n",
      "File 'sawpfsc02homesc002322desktopwater-quality-performance-results-june-2019.xlsx' has differing columns: Health Compliance, Health Guideline,  Parameter, Aesthetic Guideline\n",
      "File 'sawpfsc02homeve002087desktopopen-datawater-quality-performance-results-october-2018.xlsx' has differing columns: Health Guideline*,  SystemName, Health Compliance#,  Parameter, Aesthetic Guideline*\n",
      "File 'water-quality-performance-results-may-2020.xlsx' has differing columns: Date Range\n",
      "File 'sawpfsc02homesc002322desktopwater-quality-performance-results-february-2019.xlsx' has differing columns: Health Compliance, Health Guideline,  Parameter, Aesthetic Guideline\n",
      "File 'sawpfsc02homesc002322desktopwater-quality-performance-results-march-2019.xlsx' has differing columns: Health Compliance, Health Guideline,  Parameter, Aesthetic Guideline\n",
      "File 'sawpfsc02homesc002322desktopwater-quality-performance-results-april-2019.xlsx' has differing columns: Health Compliance, Health Guideline,  Parameter, Aesthetic Guideline\n",
      "File 'sawpfsc02homesc002322desktopwater-quality-performance-results-august-2019.xlsx' has differing columns: Aesthetic Guideline*, Health Compliance#,  Parameter\n",
      "File 'water-quality-performance-results-end-of-august-2023.xlsx' has differing columns: Region Name.1\n"
     ]
    }
   ],
   "source": [
    "import pandas as pd\n",
    "import os\n",
    "\n",
    "# Path to the folder containing Excel files\n",
    "folder_path = 'data'\n",
    "\n",
    "# Dictionary to store column names for each file\n",
    "column_names_dict = {}\n",
    "\n",
    "# Loop through each file in the folder\n",
    "for file_name in os.listdir(folder_path):\n",
    "    if file_name.endswith('.xlsx'):\n",
    "        file_path = os.path.join(folder_path, file_name)\n",
    "        df = pd.read_excel(file_path)  # Read the Excel file\n",
    "        column_names_dict[file_name] = df.columns.tolist()  # Store column names\n",
    "\n",
    "# Check if all files have the same columns\n",
    "first_file_columns = set(column_names_dict[list(column_names_dict.keys())[0]])\n",
    "all_files_same_columns = all(\n",
    "    set(columns) == first_file_columns for columns in column_names_dict.values()\n",
    ")\n",
    "\n",
    "if all_files_same_columns:\n",
    "    print(\"All files have the same columns.\")\n",
    "else:\n",
    "    print(\"Files have different columns.\")\n",
    "    # Find which files have different columns and show the differing columns\n",
    "    for file_name, columns in column_names_dict.items():\n",
    "        differing_columns = set(columns) - first_file_columns\n",
    "        if differing_columns:\n",
    "            print(f\"File '{file_name}' has differing columns: {', '.join(differing_columns)}\")\n"
   ]
  }
 ],
 "metadata": {
  "kernelspec": {
   "display_name": ".venv",
   "language": "python",
   "name": "python3"
  },
  "language_info": {
   "codemirror_mode": {
    "name": "ipython",
    "version": 3
   },
   "file_extension": ".py",
   "mimetype": "text/x-python",
   "name": "python",
   "nbconvert_exporter": "python",
   "pygments_lexer": "ipython3",
   "version": "3.10.12"
  }
 },
 "nbformat": 4,
 "nbformat_minor": 2
}
