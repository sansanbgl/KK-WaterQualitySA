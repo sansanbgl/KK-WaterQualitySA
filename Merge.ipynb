{
 "cells": [
  {
   "cell_type": "code",
   "execution_count": 1,
   "metadata": {},
   "outputs": [
    {
     "name": "stderr",
     "output_type": "stream",
     "text": [
      "/tmp/ipykernel_81417/2297587062.py:8: UserWarning: Parsing dates in %d/%m/%Y format when dayfirst=False (the default) was specified. Pass `dayfirst=True` or specify a format to silence this warning.\n",
      "  df['end_date'] = pd.to_datetime(df['end_date'].str.split(' - ').str[1])\n"
     ]
    }
   ],
   "source": [
    "import pandas as pd\n",
    "\n",
    "# Load the data from clean.xlsx\n",
    "file_path = 'data/clean.xlsx'\n",
    "df = pd.read_excel(file_path)\n",
    "\n",
    "# Convert 'end_date' column to datetime and extract last date\n",
    "df['end_date'] = pd.to_datetime(df['end_date'].str.split(' - ').str[1])\n",
    "df['LastDate'] = df['end_date']\n",
    "\n",
    "# Export the modified DataFrame to clean_end_date.xlsx\n",
    "output_file = 'clean_end_date.xlsx'\n",
    "df.to_excel(output_file, index=False)\n"
   ]
  }
 ],
 "metadata": {
  "kernelspec": {
   "display_name": ".venv",
   "language": "python",
   "name": "python3"
  },
  "language_info": {
   "codemirror_mode": {
    "name": "ipython",
    "version": 3
   },
   "file_extension": ".py",
   "mimetype": "text/x-python",
   "name": "python",
   "nbconvert_exporter": "python",
   "pygments_lexer": "ipython3",
   "version": "3.10.12"
  }
 },
 "nbformat": 4,
 "nbformat_minor": 2
}
